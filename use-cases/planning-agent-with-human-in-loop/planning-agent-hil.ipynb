{
 "cells": [
  {
   "cell_type": "code",
   "execution_count": 1,
   "metadata": {},
   "outputs": [],
   "source": [
    "from langchain.globals import set_debug,set_verbose"
   ]
  },
  {
   "cell_type": "code",
   "execution_count": null,
   "metadata": {},
   "outputs": [],
   "source": [
    "from langchain_aws import ChatBedrockConverse\n",
    "from langchain_core.messages import SystemMessage,HumanMessage,AIMessage\n",
    "model_id = 'anthropic.claude-3-haiku-20240307-v1:0'\n",
    "llm = ChatBedrockConverse(model=model_id,temperature=0)\n"
   ]
  },
  {
   "cell_type": "markdown",
   "metadata": {},
   "source": [
    "### Setup tools"
   ]
  },
  {
   "cell_type": "markdown",
   "metadata": {},
   "source": [
    "![tools](./images/tools.png)"
   ]
  },
  {
   "cell_type": "markdown",
   "metadata": {},
   "source": [
    "Dummy data is returned for all 3 tools for demo purposes. In production, the tools can be querying databases for customer data, perform shortest path calculation based on fleet availability and address and also estimate delivery dates based on more factors like weather conditions, public holidays etc."
   ]
  },
  {
   "cell_type": "code",
   "execution_count": 25,
   "metadata": {},
   "outputs": [],
   "source": [
    "from langchain_core.pydantic_v1 import BaseModel,Field\n",
    "from langchain.tools import BaseTool, StructuredTool, tool\n",
    "from typing import Dict, List, Optional, Type, Union\n",
    "import datetime\n",
    "import json\n",
    "\n",
    "from langchain_core.callbacks import (\n",
    "    AsyncCallbackManagerForToolRun,\n",
    "    CallbackManagerForToolRun,\n",
    ")\n",
    "\n",
    "\n",
    "# Input Schemas\n",
    "class CustomerInfoInput(BaseModel):\n",
    "    id:int = Field(description=\"customer id\")\n",
    "\n",
    "class DeliveryTrackerInput(BaseModel):\n",
    "    address:str = Field(description=\"customer address\")\n",
    "\n",
    "class DateCalculatorInput(BaseModel):\n",
    "    registration_date:str = Field(description=\"registration date\")\n",
    "    duration:int = Field(description=\"days to delivery\")\n",
    "\n",
    "# Output Schemas\n",
    "class CustomerInfo(BaseModel):\n",
    "    id:int = Field(description=\"customer id\")\n",
    "    first_name:str = Field(description=\"customer first name\")\n",
    "    last_name:str = Field(description=\"customer last name\")\n",
    "    address:str = Field(description=\"customer address\")\n",
    "    registration_date:str = Field(description=\"registration date\")\n",
    "\n",
    "class Delivery(BaseModel):\n",
    "    address:str = Field(description=\"address\")\n",
    "    duration:int = Field(description=\"days to delivery based on address\")\n",
    "\n",
    "class DeliveryDate(BaseModel):\n",
    "    date:str = Field(description=\"date of delivery\")\n",
    "\n",
    "# Tools definition\n",
    "class DeliveryDurationRetriever(BaseTool):\n",
    "    name = \"delivery_duration_retriever\"\n",
    "    description = \"retrieve card delivery duration based on customer address.\"\n",
    "    args_schema:Type[BaseModel] = DeliveryTrackerInput\n",
    "    def _run(self,address:str,run_manager: Optional[CallbackManagerForToolRun] = None) -> Delivery:\n",
    "        delivery_map = [Delivery(address='611789',duration=5),\n",
    "                      Delivery(address='822134',duration=7)]\n",
    "        for d in delivery_map:\n",
    "            if d.address == address:\n",
    "                return d\n",
    "\n",
    "class CustomerInfoRetriever(BaseTool):\n",
    "    name = \"customer_info_retriever\"\n",
    "    description = \"retrieve customer info based on customer id.\"\n",
    "    args_schema:Type[BaseModel] = CustomerInfoInput\n",
    "    def _run(self,id:int,run_manager: Optional[CallbackManagerForToolRun] = None) -> CustomerInfo:\n",
    "        profiles = [CustomerInfo(id=1,first_name='jake',last_name='logan',address='611789',registration_date='050324'),\n",
    "                    CustomerInfo(id=2,first_name='ikebukuro',last_name='shima',address='822134',registration_date='050124')]\n",
    "        for p in profiles:\n",
    "            if p.id == id:\n",
    "                return p\n",
    "\n",
    "class DateCalculator(BaseTool):\n",
    "    name = \"delivery_date_calculator\"\n",
    "    description = \"calculate date of card delivery based on customer registration date and delivery duration\"\n",
    "    args_schema:Type[BaseModel] = DateCalculatorInput\n",
    "    def _run(self,registration_date:str,duration:int,run_manager: Optional[CallbackManagerForToolRun] = None) -> DeliveryDate:\n",
    "        d = datetime.datetime.strptime(registration_date, '%d%m%y')\n",
    "        d = d + datetime.timedelta(days=duration)\n",
    "        return DeliveryDate(date=d.strftime(\"%d %B %Y\"))"
   ]
  },
  {
   "cell_type": "code",
   "execution_count": 4,
   "metadata": {},
   "outputs": [],
   "source": [
    "tools = [CustomerInfoRetriever(),DeliveryDurationRetriever(),DateCalculator()]\n"
   ]
  },
  {
   "cell_type": "code",
   "execution_count": 5,
   "metadata": {},
   "outputs": [],
   "source": [
    "from langchain import hub\n",
    "from langgraph.prebuilt import create_react_agent\n",
    "from langchain_core.messages import SystemMessage\n",
    "\n",
    "# create_react_agent includes binding of tools\n",
    "agent_executor = create_react_agent(llm, \n",
    "                                    tools, \n",
    "                                    messages_modifier=SystemMessage(\"\"\"\"You are a helpful assistant tasked with answering customer queries.\"\"\"),\n",
    "                                    debug=False)"
   ]
  },
  {
   "cell_type": "markdown",
   "metadata": {},
   "source": [
    "### Setup state dict"
   ]
  },
  {
   "cell_type": "code",
   "execution_count": 6,
   "metadata": {},
   "outputs": [],
   "source": [
    "import operator\n",
    "from typing import Annotated, List, Tuple, TypedDict\n",
    "\n",
    "class PlanExecute(TypedDict):\n",
    "    id:int\n",
    "    input: str\n",
    "    intent: str\n",
    "    grade: int\n",
    "    ask_human: bool\n",
    "    plan: List[str]\n",
    "    past_steps: Annotated[List[Tuple], operator.add]\n",
    "    response: str"
   ]
  },
  {
   "cell_type": "markdown",
   "metadata": {},
   "source": [
    "### Setup structured responses"
   ]
  },
  {
   "cell_type": "code",
   "execution_count": 7,
   "metadata": {},
   "outputs": [],
   "source": [
    "\n",
    "from langchain_core.pydantic_v1 import BaseModel, Field\n",
    "from typing import Union,Optional\n",
    "\n",
    "class Intent(BaseModel):\n",
    "    \"\"\"Intent of user\"\"\"\n",
    "    \n",
    "    intent: str = Field(\n",
    "        description=\"intent of user\"\n",
    "    )\n",
    "\n",
    "class Grade(BaseModel):\n",
    "    \"\"\"Grade of intent classification\"\"\"\n",
    "    \n",
    "    grade: int = Field(\n",
    "        Description=\"grade of intent classification\"\n",
    "    )\n",
    "\n",
    "class Plan(BaseModel):\n",
    "    \"\"\"Plan to follow in future\"\"\"\n",
    "\n",
    "    steps: List[str] = Field(\n",
    "        description=\"different steps to follow, should be in sorted order\"\n",
    "    )\n",
    "\n",
    "class Response(BaseModel):\n",
    "    \"\"\"Response to user.\"\"\"\n",
    "\n",
    "    # response: str\n",
    "    response: str = Field(\n",
    "        description=\"response to user\"\n",
    "    )\n",
    "\n",
    "class Act(BaseModel):\n",
    "    \"\"\"Action to perform.\"\"\"\n",
    "\n",
    "    action: Union[Response, Plan] = Field(\n",
    "        description=\"\"\"Action to perform. Based on past steps, respond to user if information is sufficient; else plan for more steps\"\"\"\n",
    "        \n",
    "    )"
   ]
  },
  {
   "cell_type": "markdown",
   "metadata": {},
   "source": [
    "### Define functions for graph nodes"
   ]
  },
  {
   "cell_type": "markdown",
   "metadata": {},
   "source": [
    "The agent classifies the intent as either 'card delivery' or 'unknown'. \n",
    "For 'unknown', the request is routed to the customer to retry.\n",
    "For 'card delivery', the LLM grades the intent vs the question and a low score routes the request back to the customer to retry. This is useful when there are more categories of intents and when multiple phrases/words can mean the same thing or have nuanced differences which increases chances of misclassification in the first attempt."
   ]
  },
  {
   "cell_type": "code",
   "execution_count": 8,
   "metadata": {},
   "outputs": [],
   "source": [
    "def intent_classification(state: PlanExecute):\n",
    "    system_message = SystemMessage(\"\"\"For the given statement, classify the intent to either <intent>card delivery</intent> or <intent>unknown</intent>\"\"\")\n",
    "    user_message = HumanMessage(state['input'])\n",
    "    llm_with_structured_output = llm.with_structured_output(Intent)\n",
    "    intent = llm_with_structured_output.invoke([system_message,user_message])\n",
    "    ask_human = False\n",
    "    if intent.intent == 'unknown':\n",
    "        ask_human = True\n",
    "    return {'intent':intent.intent,'id':state['id'],'ask_human':ask_human}"
   ]
  },
  {
   "cell_type": "code",
   "execution_count": 9,
   "metadata": {},
   "outputs": [],
   "source": [
    "def reflection(state: PlanExecute):\n",
    "    system_message = SystemMessage(\"\"\"You are an english teacher. The statement is in <statement></statement> tags and the intent is in <intent></intent> tags. Grade the intent classification from a score of 1 to 5, with 5 being the highest.\"\"\")\n",
    "    user_message = HumanMessage(f\"\"\"<statement>{state['input']}</statement><intent>{state['intent']}</intent>\"\"\")\n",
    "    llm_with_structured_output = llm.with_structured_output(Grade)\n",
    "    grade = llm_with_structured_output.invoke([system_message,user_message])\n",
    "    ask_human = False\n",
    "    if grade.grade < 4:\n",
    "        ask_human = True\n",
    "    return {'grade':grade.grade,'ask_human':ask_human}"
   ]
  },
  {
   "cell_type": "code",
   "execution_count": 10,
   "metadata": {},
   "outputs": [],
   "source": [
    "def plan_step(state: PlanExecute):\n",
    "    print(state)\n",
    "    system_message = SystemMessage(\"\"\"For the given objective, come up with a simple step by step plan. \\\n",
    "This plan should involve individual tasks, that if executed correctly will yield the correct answer. Do not add any superfluous steps. \\\n",
    "The result of the final step should be the final answer. Make sure that each step has all the information needed - do not skip steps.\"\"\")\n",
    "    if state['intent']=='card delivery':\n",
    "        user_message = HumanMessage(f'retrieve card delivery date for customer id={state[\"id\"]}')\n",
    "    llm_with_structured_output = llm.with_structured_output(Plan)\n",
    "    plan = llm_with_structured_output.invoke([system_message,user_message])\n",
    "    # return plan\n",
    "    return {'plan':plan.steps}"
   ]
  },
  {
   "cell_type": "code",
   "execution_count": 11,
   "metadata": {},
   "outputs": [],
   "source": [
    "def replan_step(state: PlanExecute):\n",
    "    prompt_template = \"\"\"For the given objective, come up with a simple step by step plan. \\\n",
    "This plan should involve individual tasks, that if executed correctly will yield the correct answer. Do not add any superfluous steps. \\\n",
    "The result of the final step should be the final answer. Make sure that each step has all the information needed - do not skip steps.\n",
    "\n",
    "Your objective was this:\n",
    "{input}\n",
    "\n",
    "Your original plan was this:\n",
    "{plan}\n",
    "\n",
    "You have currently done the follow steps:\n",
    "{past_steps}\n",
    "\n",
    "Update your plan accordingly. Respond to the user if no more steps are needed. Otherwise, fill out the plan. Only add steps to the plan that still NEED to be done. Do not return previously done steps as part of the plan.\"\"\"\n",
    "    prompt_filled = prompt_template.format(input=state['input'],plan=state['plan'],past_steps=state['past_steps'])\n",
    "    human_message = HumanMessage(prompt_filled)\n",
    "    llm_with_structured_output = llm.with_structured_output(Act)\n",
    "    replan = llm_with_structured_output.invoke([human_message])\n",
    "    if isinstance(replan.action,Response):\n",
    "        return {'response':replan.action.response}\n",
    "    elif isinstance(replan.action,Plan):\n",
    "        return {'plan':replan.action.steps}"
   ]
  },
  {
   "cell_type": "code",
   "execution_count": 12,
   "metadata": {},
   "outputs": [],
   "source": [
    "def execute_step(state: PlanExecute):\n",
    "    plan = state['plan']\n",
    "    prompt_template = \"\"\"For the following plan:\n",
    "{plan}\\n\\nYou are tasked with executing step {task}.\n",
    "The customer id is {id}\"\"\"\n",
    "    prompt_filled = prompt_template.format(plan='\\n'.join(plan),task=plan[0],id=state['id'])\n",
    "    human_message = HumanMessage(prompt_filled)\n",
    "    agent_response = agent_executor.invoke(\n",
    "        {\"messages\": human_message}\n",
    "    )\n",
    "    return {\n",
    "        \"past_steps\": [(plan[0], agent_response[\"messages\"][-1].content)],\n",
    "    }\n",
    "    \n"
   ]
  },
  {
   "cell_type": "code",
   "execution_count": 13,
   "metadata": {},
   "outputs": [],
   "source": [
    "# placeholder\n",
    "def human_node(state: PlanExecute):\n",
    "    return {'ask_human':False}"
   ]
  },
  {
   "cell_type": "code",
   "execution_count": 14,
   "metadata": {},
   "outputs": [],
   "source": [
    "def select_node(state: PlanExecute):\n",
    "    if 'ask_human' in state and state['ask_human']:\n",
    "        return 'human'\n",
    "    else:\n",
    "        return 'continue'"
   ]
  },
  {
   "cell_type": "code",
   "execution_count": 15,
   "metadata": {},
   "outputs": [],
   "source": [
    "def should_end(state: PlanExecute):\n",
    "    if 'response' in state and state[\"response\"]:\n",
    "        return \"__end__\"\n",
    "    else:\n",
    "        return \"agent\""
   ]
  },
  {
   "cell_type": "code",
   "execution_count": 16,
   "metadata": {},
   "outputs": [],
   "source": [
    "from langgraph.checkpoint.sqlite import SqliteSaver\n",
    "\n",
    "memory = SqliteSaver.from_conn_string(\":memory:\")"
   ]
  },
  {
   "cell_type": "code",
   "execution_count": 17,
   "metadata": {},
   "outputs": [],
   "source": [
    "from langgraph.graph import StateGraph, START, END\n",
    "\n",
    "workflow = StateGraph(PlanExecute)\n",
    "\n",
    "# Add the intent classification node\n",
    "workflow.add_node(\"intent_classification\",intent_classification)\n",
    "\n",
    "# Add the reflection node\n",
    "workflow.add_node(\"reflection\",reflection)\n",
    "\n",
    "# Add the human node\n",
    "workflow.add_node(\"human\",human_node)\n",
    "\n",
    "# Add the plan node\n",
    "workflow.add_node(\"planner\", plan_step)\n",
    "\n",
    "# Add the execution step\n",
    "workflow.add_node(\"agent\", execute_step)\n",
    "\n",
    "# Add a replan node\n",
    "workflow.add_node(\"replan\", replan_step)\n",
    "\n",
    "\n",
    "workflow.add_edge(START, \"intent_classification\")\n",
    "# workflow.add_edge(\"intent_classification\",\"reflection\")\n",
    "\n",
    "workflow.add_conditional_edges(\n",
    "    \"intent_classification\",\n",
    "    select_node,\n",
    "    {'human':'human','continue':'reflection'}\n",
    ")\n",
    "\n",
    "workflow.add_conditional_edges(\n",
    "    \"reflection\",\n",
    "    select_node,\n",
    "    {'human':'human','continue':'planner'}\n",
    ")\n",
    "\n",
    "# From plan we go to agent\n",
    "workflow.add_edge(\"planner\", \"agent\")\n",
    "\n",
    "# From agent, we replan\n",
    "workflow.add_edge(\"agent\", \"replan\")\n",
    "\n",
    "workflow.add_conditional_edges(\n",
    "    \"replan\",\n",
    "    # Pass in the function that will determine which node is called next.\n",
    "    should_end,\n",
    "    {'agent':'agent','__end__':END}\n",
    ")\n",
    "\n",
    "workflow.add_edge(\"human\",\"intent_classification\")\n",
    "\n",
    "app = workflow.compile(checkpointer=memory,interrupt_before=[\"human\"])"
   ]
  },
  {
   "cell_type": "code",
   "execution_count": 18,
   "metadata": {},
   "outputs": [
    {
     "data": {
      "image/jpeg": "[encoded data removed]",
      "text/plain": [
       "<IPython.core.display.Image object>"
      ]
     },
     "metadata": {},
     "output_type": "display_data"
    }
   ],
   "source": [
    "from IPython.display import Image, display\n",
    "display(Image(app.get_graph(xray=True).draw_mermaid_png()))"
   ]
  },
  {
   "cell_type": "markdown",
   "metadata": {},
   "source": [
    "### Intentionally trigger human-in-loop"
   ]
  },
  {
   "cell_type": "code",
   "execution_count": 19,
   "metadata": {},
   "outputs": [
    {
     "name": "stdout",
     "output_type": "stream",
     "text": [
      "k intent_classification\n",
      "v {'id': 1, 'intent': 'unknown', 'ask_human': True}\n"
     ]
    }
   ],
   "source": [
    "config = {\"configurable\": {\"thread_id\": \"1\"},\"recursion_limit\": 15}\n",
    "# inputs = {\"input\": \"when will my card be delivered?\",\"id\":1}\n",
    "inputs = {\"input\": \"what is the chargeback amount?\",\"id\":1}\n",
    "for event in app.stream(inputs, config=config):\n",
    "    for k, v in event.items():\n",
    "        if k != \"__end__\":\n",
    "            print('k',k)\n",
    "            print('v',v)\n",
    "            "
   ]
  },
  {
   "cell_type": "code",
   "execution_count": 20,
   "metadata": {},
   "outputs": [
    {
     "data": {
      "text/plain": [
       "('human',)"
      ]
     },
     "execution_count": 20,
     "metadata": {},
     "output_type": "execute_result"
    }
   ],
   "source": [
    "snapshot = app.get_state(config)\n",
    "snapshot.next"
   ]
  },
  {
   "cell_type": "code",
   "execution_count": 21,
   "metadata": {},
   "outputs": [
    {
     "data": {
      "text/plain": [
       "{'id': 1,\n",
       " 'input': 'what is the chargeback amount?',\n",
       " 'intent': 'unknown',\n",
       " 'ask_human': True,\n",
       " 'past_steps': []}"
      ]
     },
     "execution_count": 21,
     "metadata": {},
     "output_type": "execute_result"
    }
   ],
   "source": [
    "snapshot.values"
   ]
  },
  {
   "cell_type": "markdown",
   "metadata": {},
   "source": [
    "### Update input with different question"
   ]
  },
  {
   "cell_type": "code",
   "execution_count": 22,
   "metadata": {},
   "outputs": [
    {
     "data": {
      "text/plain": [
       "{'configurable': {'thread_id': '1',\n",
       "  'thread_ts': '1ef4336f-24cc-6388-8002-be1ae24e2cd2'}}"
      ]
     },
     "execution_count": 22,
     "metadata": {},
     "output_type": "execute_result"
    }
   ],
   "source": [
    "app.update_state(config, {\"input\": \"when will my card be delivered?\"})"
   ]
  },
  {
   "cell_type": "code",
   "execution_count": 23,
   "metadata": {},
   "outputs": [
    {
     "data": {
      "text/plain": [
       "{'id': 1,\n",
       " 'input': 'when will my card be delivered?',\n",
       " 'intent': 'unknown',\n",
       " 'ask_human': True,\n",
       " 'past_steps': []}"
      ]
     },
     "execution_count": 23,
     "metadata": {},
     "output_type": "execute_result"
    }
   ],
   "source": [
    "snapshot = app.get_state(config)\n",
    "snapshot.values"
   ]
  },
  {
   "cell_type": "code",
   "execution_count": 24,
   "metadata": {},
   "outputs": [
    {
     "name": "stdout",
     "output_type": "stream",
     "text": [
      "k human\n",
      "v {'ask_human': False}\n",
      "k intent_classification\n",
      "v {'id': 1, 'intent': 'card delivery', 'ask_human': False}\n",
      "k reflection\n",
      "v {'grade': 4, 'ask_human': False}\n",
      "{'id': 1, 'input': 'when will my card be delivered?', 'intent': 'card delivery', 'grade': 4, 'ask_human': False, 'plan': None, 'past_steps': [], 'response': None}\n",
      "k planner\n",
      "v {'plan': ['1. Retrieve customer information for customer with id=1', '2. Identify the card delivery date from the customer information']}\n",
      "k agent\n",
      "v {'past_steps': [('1. Retrieve customer information for customer with id=1', \"Great, I've retrieved the customer information for the customer with id=1. The key details are:\\n- Customer ID: 1\\n- First Name: jake\\n- Last Name: logan \\n- Address: 611789\\n- Registration Date: 050324\\n\\nNow that I have the customer information, I can proceed to step 2 to identify the card delivery date.\")]}\n",
      "k replan\n",
      "v {'plan': ['2. Identify the card delivery date from the customer information']}\n",
      "k agent\n",
      "v {'past_steps': [('2. Identify the card delivery date from the customer information', 'Based on the information provided:\\n- The customer ID is 1\\n- The customer registration date is 050324 (May 3, 2024)\\n- The delivery duration is 5 days\\n\\nCalculating the delivery date using the delivery_date_calculator tool, the card delivery date is 10 March 2024.')]}\n",
      "k replan\n",
      "v {'response': 'Based on the information provided, the card delivery date has already been identified as 10 March 2024. No further steps are needed.'}\n"
     ]
    }
   ],
   "source": [
    "for event in app.stream(None, config=config):\n",
    "    for k, v in event.items():\n",
    "        if k != \"__end__\":\n",
    "            print('k',k)\n",
    "            print('v',v)"
   ]
  }
 ],
 "metadata": {
  "kernelspec": {
   "display_name": "venv",
   "language": "python",
   "name": "python3"
  },
  "language_info": {
   "codemirror_mode": {
    "name": "ipython",
    "version": 3
   },
   "file_extension": ".py",
   "mimetype": "text/x-python",
   "name": "python",
   "nbconvert_exporter": "python",
   "pygments_lexer": "ipython3",
   "version": "3.9.18"
  }
 },
 "nbformat": 4,
 "nbformat_minor": 2
}
