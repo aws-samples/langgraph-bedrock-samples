{
 "cells": [
  {
   "cell_type": "code",
   "execution_count": 1,
   "metadata": {},
   "outputs": [],
   "source": [
    "from langchain.globals import set_debug,set_verbose"
   ]
  },
  {
   "cell_type": "code",
   "execution_count": null,
   "metadata": {},
   "outputs": [],
   "source": [
    "from langchain_aws import ChatBedrockConverse\n",
    "from langchain_core.messages import SystemMessage,HumanMessage,AIMessage\n",
    "model_id = 'anthropic.claude-3-haiku-20240307-v1:0'\n",
    "llm = ChatBedrockConverse(model=model_id,temperature=0)\n"
   ]
  },
  {
   "cell_type": "code",
   "execution_count": 3,
   "metadata": {},
   "outputs": [],
   "source": [
    "from typing import List\n",
    "def my_chat_bot(messages):\n",
    "    system_message = SystemMessage(\"You are a customer support agent for an airline.\")\n",
    "    messages = [system_message] + messages\n",
    "    output = llm.invoke(messages)\n",
    "    return output"
   ]
  },
  {
   "cell_type": "code",
   "execution_count": 4,
   "metadata": {},
   "outputs": [
    {
     "data": {
      "text/plain": [
       "AIMessage(content='Hello! How can I assist you today?', response_metadata={'ResponseMetadata': {'RequestId': '5caf8116-ad3a-4753-a36f-c78a6b31a973', 'HTTPStatusCode': 200, 'HTTPHeaders': {'date': 'Tue, 16 Jul 2024 06:53:44 GMT', 'content-type': 'application/json', 'content-length': '215', 'connection': 'keep-alive', 'x-amzn-requestid': '5caf8116-ad3a-4753-a36f-c78a6b31a973'}, 'RetryAttempts': 0}, 'stopReason': 'end_turn', 'metrics': {'latencyMs': 363}}, id='run-7eb8e413-e1ef-4d47-8295-34dd9aa32986-0', usage_metadata={'input_tokens': 18, 'output_tokens': 12, 'total_tokens': 30})"
      ]
     },
     "execution_count": 4,
     "metadata": {},
     "output_type": "execute_result"
    }
   ],
   "source": [
    "human_message = HumanMessage(\"hi\")\n",
    "output = my_chat_bot([human_message])\n",
    "output"
   ]
  },
  {
   "cell_type": "code",
   "execution_count": 6,
   "metadata": {},
   "outputs": [],
   "source": [
    "from langchain_core.prompts import ChatPromptTemplate, MessagesPlaceholder\n",
    "\n",
    "system_prompt_template = \"\"\"You are a customer of an airline company. \\\n",
    "You are interacting with a user who is a customer support person. \\\n",
    "\n",
    "{instructions}\n",
    "\n",
    "When you are finished with the conversation, respond with a single word 'FINISHED'\"\"\"\n",
    "\n",
    "prompt = ChatPromptTemplate.from_messages(\n",
    "    [\n",
    "        (\"system\", system_prompt_template),\n",
    "        MessagesPlaceholder(variable_name=\"messages\"),\n",
    "    ]\n",
    ")\n",
    "\n",
    "instructions = \"\"\"Your name is Harrison. You are trying to get a refund for the trip you took to Alaska. \\\n",
    "You want them to give you ALL the money back. \\\n",
    "This trip happened 5 years ago.\"\"\"\n",
    "\n",
    "prompt = prompt.partial(instructions=instructions)\n",
    "\n",
    "simulated_user = prompt | llm"
   ]
  },
  {
   "cell_type": "code",
   "execution_count": 7,
   "metadata": {},
   "outputs": [
    {
     "data": {
      "text/plain": [
       "AIMessage(content=\"Hello, my name is Harrison. I'm calling about a trip I took to Alaska with your airline about 5 years ago. I would like to get a full refund for that trip.\", response_metadata={'ResponseMetadata': {'RequestId': '6f2a3b9b-a23c-49c6-ab2b-a7d6317f3f87', 'HTTPStatusCode': 200, 'HTTPHeaders': {'date': 'Tue, 16 Jul 2024 06:54:13 GMT', 'content-type': 'application/json', 'content-length': '338', 'connection': 'keep-alive', 'x-amzn-requestid': '6f2a3b9b-a23c-49c6-ab2b-a7d6317f3f87'}, 'RetryAttempts': 0}, 'stopReason': 'end_turn', 'metrics': {'latencyMs': 621}}, id='run-09060ae6-f252-480d-8134-a2f48a5228d9-0', usage_metadata={'input_tokens': 101, 'output_tokens': 43, 'total_tokens': 144})"
      ]
     },
     "execution_count": 7,
     "metadata": {},
     "output_type": "execute_result"
    }
   ],
   "source": [
    "from langchain_core.messages import HumanMessage\n",
    "\n",
    "messages = [HumanMessage(content=\"Hello! How can I assist you today?\")]\n",
    "output = simulated_user.invoke({\"messages\": messages})\n",
    "output"
   ]
  },
  {
   "cell_type": "code",
   "execution_count": 8,
   "metadata": {},
   "outputs": [],
   "source": [
    "from langchain_core.messages import AIMessage\n",
    "\n",
    "def chat_bot_node(messages):\n",
    "    # Call the chat bot\n",
    "    chat_bot_response = my_chat_bot(messages)\n",
    "    # Respond with an AI Message\n",
    "    return AIMessage(content=chat_bot_response.content)"
   ]
  },
  {
   "cell_type": "code",
   "execution_count": 9,
   "metadata": {},
   "outputs": [],
   "source": [
    "# start swapping from the 2nd message as the first message is only meant for the chatbot\n",
    "def _swap_roles(messages):\n",
    "    new_messages = []\n",
    "    for m in messages[1:]:\n",
    "        if isinstance(m, AIMessage):\n",
    "            new_messages.append(HumanMessage(content=m.content))\n",
    "        else:\n",
    "            new_messages.append(AIMessage(content=m.content))\n",
    "    return new_messages\n",
    "\n",
    "\n",
    "def simulated_user_node(messages):\n",
    "    # Swap roles of messages\n",
    "    new_messages = _swap_roles(messages)\n",
    "    # Call the simulated user\n",
    "    response = simulated_user.invoke({\"messages\": new_messages})\n",
    "    # This response is an AI message - we need to flip this to be a human message\n",
    "    return HumanMessage(content=response.content)"
   ]
  },
  {
   "cell_type": "code",
   "execution_count": 10,
   "metadata": {},
   "outputs": [],
   "source": [
    "def should_continue(messages):\n",
    "    if len(messages) > 6:\n",
    "        return \"end\"\n",
    "    elif messages[-1].content == \"FINISHED\":\n",
    "        return \"end\"\n",
    "    else:\n",
    "        return \"continue\""
   ]
  },
  {
   "cell_type": "code",
   "execution_count": 11,
   "metadata": {},
   "outputs": [],
   "source": [
    "from langgraph.graph import END, MessageGraph, START\n",
    "\n",
    "graph_builder = MessageGraph()\n",
    "graph_builder.add_node(\"user\", simulated_user_node)\n",
    "graph_builder.add_node(\"chat_bot\", chat_bot_node)\n",
    "# Every response from  your chat bot will automatically go to the\n",
    "# simulated user\n",
    "graph_builder.add_edge(\"chat_bot\", \"user\")\n",
    "graph_builder.add_conditional_edges(\n",
    "    \"user\",\n",
    "    should_continue,\n",
    "    # If the finish criteria are met, we will stop the simulation,\n",
    "    # otherwise, the virtual user's message will be sent to your chat bot\n",
    "    {\n",
    "        \"end\": END,\n",
    "        \"continue\": \"chat_bot\",\n",
    "    },\n",
    ")\n",
    "# The input will first go to your chat bot\n",
    "graph_builder.add_edge(START, \"chat_bot\")\n",
    "simulation = graph_builder.compile()"
   ]
  },
  {
   "cell_type": "code",
   "execution_count": 12,
   "metadata": {},
   "outputs": [
    {
     "data": {
      "image/jpeg": "[encoded data removed]",
      "text/plain": [
       "<IPython.core.display.Image object>"
      ]
     },
     "metadata": {},
     "output_type": "display_data"
    }
   ],
   "source": [
    "from IPython.display import Image, display\n",
    "display(Image(simulation.get_graph(xray=True).draw_mermaid_png()))"
   ]
  },
  {
   "cell_type": "code",
   "execution_count": 13,
   "metadata": {},
   "outputs": [
    {
     "name": "stdout",
     "output_type": "stream",
     "text": [
      "k chat_bot\n",
      "v content='Hello! How can I assist you today?'\n",
      "k user\n",
      "v content=\"Hello, my name is Harrison. I'm trying to get a refund for a trip I took to Alaska with your airline 5 years ago. I would like to get a full refund for the entire trip.\" id='0383ce22-1898-4829-a347-0fe1084fb67b'\n",
      "k chat_bot\n",
      "v content=\"I apologize, but I'm afraid I won't be able to process a refund for a trip that took place 5 years ago. Our standard refund policy only allows for refunds to be requested within 1 year of the original travel date.\\n\\nI understand you may have had extenuating circumstances, but our policies are in place to ensure fairness for all customers. Unfortunately, I do not have the ability to make exceptions to the 1-year refund window.\\n\\nI'd be happy to look into any other options that may be available to you, such as applying the value of your previous ticket towards a future booking. However, a full cash refund for a trip taken 5 years ago is not something I can process. Please let me know if there is anything else I can assist with.\"\n",
      "k user\n",
      "v content='I understand your policy, but this trip was 5 years ago and I should be able to get a full refund. This is unacceptable. I demand that you make an exception and give me all my money back immediately.' id='b0f038b2-6b29-4801-807a-3e4a14fd26cd'\n",
      "k chat_bot\n",
      "v content=\"I apologize, but I do not have the ability to make exceptions to our standard refund policy, even in cases where the travel was several years ago. Our policies are in place to ensure fairness and consistency for all customers.\\n\\nI understand you are frustrated, but I am bound by the rules and guidelines set by the airline. A full cash refund for a trip taken 5 years ago is simply not something I can authorize. \\n\\nI would be happy to explore other options that may be available to you, such as applying the value of your previous ticket towards a future booking. However, I cannot provide a full refund outside of our standard 1-year policy window.\\n\\nI know this is not the outcome you were hoping for, but I hope you can understand the constraints I'm operating within as a customer service agent. Please let me know if there is anything else I can assist with within the bounds of our policies.\"\n",
      "k user\n",
      "v content='FINISHED' id='9097b1f8-a057-47bd-8425-f8d1ae45bcbc'\n"
     ]
    }
   ],
   "source": [
    "human_message = HumanMessage(\"hi\")\n",
    "for chunk in simulation.stream([human_message]):\n",
    "    for k, v in chunk.items():\n",
    "        if k != \"__end__\":\n",
    "            print('k',k)\n",
    "            print('v',v)"
   ]
  },
  {
   "cell_type": "code",
   "execution_count": null,
   "metadata": {},
   "outputs": [],
   "source": []
  }
 ],
 "metadata": {
  "kernelspec": {
   "display_name": "venv",
   "language": "python",
   "name": "python3"
  },
  "language_info": {
   "codemirror_mode": {
    "name": "ipython",
    "version": 3
   },
   "file_extension": ".py",
   "mimetype": "text/x-python",
   "name": "python",
   "nbconvert_exporter": "python",
   "pygments_lexer": "ipython3",
   "version": "3.9.18"
  }
 },
 "nbformat": 4,
 "nbformat_minor": 2
}
