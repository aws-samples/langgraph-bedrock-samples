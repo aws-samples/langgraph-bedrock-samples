{
 "cells": [
  {
   "cell_type": "code",
   "execution_count": 1,
   "metadata": {},
   "outputs": [],
   "source": [
    "import os\n",
    "os.environ['TAVILY_API_KEY'] = 'your API key'\n",
    "from langchain.globals import set_debug,set_verbose\n",
    "model_id = 'anthropic.claude-3-haiku-20240307-v1:0'"
   ]
  },
  {
   "cell_type": "code",
   "execution_count": null,
   "metadata": {},
   "outputs": [],
   "source": [
    "from langchain_aws import ChatBedrockConverse\n",
    "from langchain_core.messages import SystemMessage,HumanMessage,AIMessage\n",
    "llm = ChatBedrockConverse(model=model_id,temperature=0)"
   ]
  },
  {
   "cell_type": "code",
   "execution_count": 3,
   "metadata": {},
   "outputs": [],
   "source": [
    "from langchain_community.tools.tavily_search import TavilySearchResults\n",
    "search_tool = TavilySearchResults(max_results=2)"
   ]
  },
  {
   "cell_type": "code",
   "execution_count": 4,
   "metadata": {},
   "outputs": [],
   "source": [
    "import operator\n",
    "from typing import Annotated, List, Tuple, TypedDict\n",
    "\n",
    "class PlanExecute(TypedDict):\n",
    "    input: str\n",
    "    plan: List[str]\n",
    "    past_steps: Annotated[List[Tuple], operator.add]\n",
    "    response: str"
   ]
  },
  {
   "cell_type": "code",
   "execution_count": 5,
   "metadata": {},
   "outputs": [],
   "source": [
    "\n",
    "from langchain_core.pydantic_v1 import BaseModel, Field\n",
    "from typing import Union,Optional\n",
    "\n",
    "class Plan(BaseModel):\n",
    "    \"\"\"Plan to follow in future\"\"\"\n",
    "\n",
    "    steps: List[str] = Field(\n",
    "        description=\"different steps to follow, should be in sorted order\"\n",
    "    )\n",
    "\n",
    "class Response(BaseModel):\n",
    "    \"\"\"Response to user.\"\"\"\n",
    "\n",
    "    # response: str\n",
    "    response: str = Field(\n",
    "        description=\"response to user\"\n",
    "    )\n",
    "\n",
    "\n",
    "class Act(BaseModel):\n",
    "    \"\"\"Action to perform.\"\"\"\n",
    "\n",
    "    action: Union[Response, Plan] = Field(\n",
    "        description=\"\"\"Action to perform. Based on past steps, respond to user if information is sufficient; else plan for more steps. If you want to respond to user, use Response.\"\"\"\n",
    "        \n",
    "    )\n"
   ]
  },
  {
   "cell_type": "code",
   "execution_count": 6,
   "metadata": {},
   "outputs": [],
   "source": [
    "tools = [search_tool]"
   ]
  },
  {
   "cell_type": "code",
   "execution_count": 7,
   "metadata": {},
   "outputs": [],
   "source": [
    "from langchain import hub\n",
    "from langgraph.prebuilt import create_react_agent\n",
    "prompt = hub.pull(\"wfh/react-agent-executor\")\n",
    "# prompt.pretty_print()\n",
    "\n",
    "# create_react_agent includes binding of tools\n",
    "agent_executor = create_react_agent(llm, tools, messages_modifier=prompt)"
   ]
  },
  {
   "cell_type": "code",
   "execution_count": 8,
   "metadata": {},
   "outputs": [],
   "source": [
    "\n",
    "def plan_step(state: PlanExecute):\n",
    "    system_message = SystemMessage(\"\"\"For the given objective, come up with a simple step by step plan. \\\n",
    "This plan should involve individual tasks, that if executed correctly will yield the correct answer. Do not add any superfluous steps. \\\n",
    "The result of the final step should be the final answer. Make sure that each step has all the information needed - do not skip steps.\"\"\")\n",
    "    user_message = HumanMessage(state['input'])\n",
    "    llm_with_structured_output = llm.with_structured_output(Plan)\n",
    "    plan = llm_with_structured_output.invoke([system_message,user_message])\n",
    "    return {'plan':plan.steps}"
   ]
  },
  {
   "cell_type": "code",
   "execution_count": null,
   "metadata": {},
   "outputs": [],
   "source": [
    "# test plan_step\n",
    "dict = PlanExecute(input='what is the hometown of the current Australia open winner?')\n",
    "output = plan_step(dict)\n",
    "output"
   ]
  },
  {
   "cell_type": "code",
   "execution_count": 9,
   "metadata": {},
   "outputs": [],
   "source": [
    "def replan_step(state: PlanExecute):\n",
    "    prompt_template = \"\"\"For the given objective, come up with a simple step by step plan. \\\n",
    "This plan should involve individual tasks, that if executed correctly will yield the correct answer. Do not add any superfluous steps. \\\n",
    "The result of the final step should be the final answer. Make sure that each step has all the information needed - do not skip steps.\n",
    "\n",
    "Your objective was this:\n",
    "{input}\n",
    "\n",
    "Your original plan was this:\n",
    "{plan}\n",
    "\n",
    "You have currently done the follow steps:\n",
    "{past_steps}\n",
    "\n",
    "Update your plan accordingly. If no more steps are needed and you can return to the user, then respond with that. Otherwise, fill out the plan. Only add steps to the plan that still NEED to be done. Do not return previously done steps as part of the plan.\"\"\"\n",
    "    prompt_filled = prompt_template.format(input=state['input'],plan=state['plan'],past_steps=state['past_steps'])\n",
    "    human_message = HumanMessage(prompt_filled)\n",
    "    llm_with_structured_output = llm.with_structured_output(Act)\n",
    "    replan = llm_with_structured_output.invoke([human_message])\n",
    "\n",
    "    if isinstance(replan.action,Response):\n",
    "        return {'response':replan.action.response}\n",
    "    elif isinstance(replan.action,Plan):\n",
    "        return {'plan':replan.action.steps}"
   ]
  },
  {
   "cell_type": "code",
   "execution_count": null,
   "metadata": {},
   "outputs": [],
   "source": [
    "# test replan_step with test output\n",
    "dict = PlanExecute(input='what is the hometown of the current Australia open winner?',plan=['1. Identify the current winner of the Australian Open',\n",
    "  '2. Look up the hometown of the current Australian Open winner'],past_steps=[])\n",
    "output = replan_step(dict)\n",
    "output"
   ]
  },
  {
   "cell_type": "code",
   "execution_count": null,
   "metadata": {},
   "outputs": [],
   "source": [
    "# test replan_step with response output\n",
    "# state = {'input': 'what is the hometown of the 2024 Australia open winner?', 'plan': [\"3. Report the hometown of Jannik Sinner, the 2024 Australian Open men's singles champion\"], 'past_steps': [('1. Identify the winner of the 2024 Australia Open', \"Based on the search results, it appears that Jannik Sinner of Italy won the 2024 Australian Open men's singles title. He defeated Daniil Medvedev in a 5-set comeback victory, becoming the first Italian man to win the Australian Open since 1976.\\n\\nThe key details are:\\n\\n- Jannik Sinner of Italy won the 2024 Australian Open men's singles title\\n- He defeated Daniil Medvedev in a 5-set match, coming back from a 2-set deficit\\n- This was Sinner's first Grand Slam title\\n- He became the first Italian man to win the Australian Open since 1976\\n\\nSo in summary, the winner of the 2024 Australian Open men's singles title was Jannik Sinner of Italy.\"), (\"2. Look up the hometown of Jannik Sinner, the 2024 Australian Open men's singles champion\", \"Based on the search results, Jannik Sinner's hometown is Sexten in the Dolomites region of Italy. The information from the ATP Tour article directly states that Sinner is from the town of Sexten.\"), (\"3. Report the hometown of Jannik Sinner, the 2024 Australian Open men's singles champion\", \"Based on the search results, Jannik Sinner's hometown is Sexten, located in the Dolomites region of Italy. The results indicate that Sinner is from this small town in the Dolomite mountains.\")], 'response': None}\n",
    "state = {'input': 'what is the hometown of the 2024 Australia open winner?', 'plan': ['1. Identify the current Australia Open winner', '2. Research the hometown of the current Australia Open winner', '3. Provide the hometown of the current Australia Open winner'], 'past_steps': [('1. Identify the winner of the 2024 Australia Open', \"Based on the search results, it appears that Jannik Sinner of Italy won the 2024 Australian Open men's singles title. He defeated Daniil Medvedev in a 5-set comeback victory, becoming the first Italian man to win the Australian Open since 1976.\\n\\nThe key details are:\\n\\n- Jannik Sinner of Italy won the 2024 Australian Open men's singles title\\n- He defeated Daniil Medvedev in a 5-set match, coming back from a 2-set deficit\\n- This was Sinner's first Grand Slam title\\n- He became the first Italian man to win the Australian Open since 1976\\n\\nSo in summary, the winner of the 2024 Australian Open men's singles title was Jannik Sinner of Italy.\"), (\"2. Look up the hometown of Jannik Sinner, the 2024 Australian Open men's singles champion\", \"Based on the search results, Jannik Sinner's hometown is Sexten in the Dolomites region of Italy. The information from the ATP Tour article directly states that Sinner is from the town of Sexten.\"), (\"3. Report the hometown of Jannik Sinner, the 2024 Australian Open men's singles champion\", \"Based on the search results, Jannik Sinner's hometown is Sexten, located in the Dolomites region of Italy. The results indicate that Sinner is from this small town in the Dolomite mountains.\")], 'response': None}\n",
    "dict = PlanExecute(state)\n",
    "output = replan_step(dict)\n",
    "output"
   ]
  },
  {
   "cell_type": "code",
   "execution_count": 10,
   "metadata": {},
   "outputs": [],
   "source": [
    "def execute_step(state: PlanExecute):\n",
    "    plan = state['plan']\n",
    "    prompt_template = \"\"\"For the following plan:\n",
    "{plan}\\n\\nYou are tasked with executing step {task}.\"\"\"\n",
    "    prompt_filled = prompt_template.format(plan='\\n'.join(plan),task=plan[0])\n",
    "    human_message = HumanMessage(prompt_filled)\n",
    "\n",
    "    agent_response = agent_executor.invoke(\n",
    "        {\"messages\": human_message}\n",
    "    )\n",
    "    return {\n",
    "        \"past_steps\": [(plan[0], agent_response[\"messages\"][-1].content)],\n",
    "    }\n",
    "    \n"
   ]
  },
  {
   "cell_type": "code",
   "execution_count": null,
   "metadata": {},
   "outputs": [],
   "source": [
    "# test execute_step\n",
    "dict = PlanExecute(plan=['1. Look up who the current winner of the Australian Open is',\n",
    "  '2. Determine the hometown of the current Australian Open winner'])\n",
    "output = execute_step(dict)\n",
    "output"
   ]
  },
  {
   "cell_type": "code",
   "execution_count": 11,
   "metadata": {},
   "outputs": [],
   "source": [
    "def should_end(state: PlanExecute):\n",
    "    if \"response\" in state and state[\"response\"]:\n",
    "        return \"__end__\"\n",
    "    else:\n",
    "        return \"agent\""
   ]
  },
  {
   "cell_type": "code",
   "execution_count": 12,
   "metadata": {},
   "outputs": [],
   "source": [
    "from langgraph.graph import StateGraph, START, END\n",
    "\n",
    "workflow = StateGraph(PlanExecute)\n",
    "\n",
    "# Add the plan node\n",
    "workflow.add_node(\"planner\", plan_step)\n",
    "\n",
    "# Add the execution step\n",
    "workflow.add_node(\"agent\", execute_step)\n",
    "\n",
    "# Add a replan node\n",
    "workflow.add_node(\"replan\", replan_step)\n",
    "\n",
    "workflow.add_edge(START, \"planner\")\n",
    "\n",
    "# From plan we go to agent\n",
    "workflow.add_edge(\"planner\", \"agent\")\n",
    "\n",
    "# From agent, we replan\n",
    "workflow.add_edge(\"agent\", \"replan\")\n",
    "\n",
    "workflow.add_conditional_edges(\n",
    "    \"replan\",\n",
    "    # Pass in the function that will determine which node is called next.\n",
    "    should_end,\n",
    "    {'agent':'agent','__end__':END}\n",
    ")\n",
    "\n",
    "app = workflow.compile()"
   ]
  },
  {
   "cell_type": "code",
   "execution_count": 13,
   "metadata": {},
   "outputs": [
    {
     "data": {
      "image/jpeg": "[encoded data removed]",
      "text/plain": [
       "<IPython.core.display.Image object>"
      ]
     },
     "metadata": {},
     "output_type": "display_data"
    }
   ],
   "source": [
    "from IPython.display import Image, display\n",
    "\n",
    "display(Image(app.get_graph(xray=True).draw_mermaid_png()))"
   ]
  },
  {
   "cell_type": "code",
   "execution_count": 15,
   "metadata": {},
   "outputs": [
    {
     "name": "stdout",
     "output_type": "stream",
     "text": [
      "k planner\n",
      "v {'plan': ['1. Identify the winner of the 2024 Australia Open', '2. Find the hometown of the 2024 Australia Open winner']}\n",
      "k agent\n",
      "v {'past_steps': [('1. Identify the winner of the 2024 Australia Open', \"Based on the search results, the winner of the 2024 Australian Open was Jannik Sinner. The key details are:\\n\\n- Jannik Sinner beat Daniil Medvedev in the 2024 Australian Open men's final.\\n- Sinner was the youngest player to win the Australian Open men's title since Novak Djokovic in 2008.\\n- Sinner won the first Australian Open men's final since 2005 that did not feature Roger Federer, Rafael Nadal or Novak Djokovic.\\n\\nSo the winner of the 2024 Australian Open was Jannik Sinner.\")]}\n",
      "k replan\n",
      "v {'plan': ['2. Find the hometown of Jannik Sinner, the 2024 Australian Open winner']}\n",
      "k agent\n",
      "v {'past_steps': [('2. Find the hometown of Jannik Sinner, the 2024 Australian Open winner', 'Based on the search results, Jannik Sinner\\'s hometown is Sexten, located in northern Italy. The key information is from the second search result, which states:\\n\\n\"Jannik Sinner returned to his hometown of Sexten in northern Italy Tuesday to continue the celebration of his ascent to No. 1 in the PIF ATP Rankings.\"\\n\\nSo Jannik Sinner\\'s hometown is Sexten, Italy.')]}\n",
      "k replan\n",
      "v {'response': 'The hometown of the 2024 Australian Open winner, Jannik Sinner, is Sexten, located in northern Italy.'}\n"
     ]
    }
   ],
   "source": [
    "config = {\"recursion_limit\": 10}\n",
    "inputs = {\"input\": \"what is the hometown of the 2024 Australia open winner?\"}\n",
    "for event in app.stream(inputs, config=config):\n",
    "    for k, v in event.items():\n",
    "        if k != \"__end__\":\n",
    "            print('k',k)\n",
    "            print('v',v)            "
   ]
  },
  {
   "cell_type": "markdown",
   "metadata": {},
   "source": []
  }
 ],
 "metadata": {
  "kernelspec": {
   "display_name": "venv",
   "language": "python",
   "name": "python3"
  },
  "language_info": {
   "codemirror_mode": {
    "name": "ipython",
    "version": 3
   },
   "file_extension": ".py",
   "mimetype": "text/x-python",
   "name": "python",
   "nbconvert_exporter": "python",
   "pygments_lexer": "ipython3",
   "version": "3.9.18"
  }
 },
 "nbformat": 4,
 "nbformat_minor": 2
}
